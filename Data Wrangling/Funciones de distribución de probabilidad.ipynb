{
 "cells": [
  {
   "cell_type": "markdown",
   "metadata": {},
   "source": [
    "# Funciones de distribución de probabilidades\n",
    "## Distribución Uniforme"
   ]
  },
  {
   "cell_type": "code",
   "execution_count": 3,
   "metadata": {},
   "outputs": [],
   "source": [
    "import numpy as np\n",
    "import matplotlib.pyplot as plt"
   ]
  },
  {
   "cell_type": "code",
   "execution_count": 23,
   "metadata": {},
   "outputs": [],
   "source": [
    "a = 1\n",
    "b = 100\n",
    "n = 10000\n",
    "data = np.random.uniform(a, b, n)"
   ]
  },
  {
   "cell_type": "code",
   "execution_count": 24,
   "metadata": {
    "scrolled": true
   },
   "outputs": [
    {
     "data": {
      "image/png": "[encoded data removed]",
      "text/plain": [
       "<Figure size 432x288 with 1 Axes>"
      ]
     },
     "metadata": {
      "needs_background": "light"
     },
     "output_type": "display_data"
    }
   ],
   "source": [
    "#Utilizamos matplotlib para pintar un histograma\n",
    "%matplotlib inline\n",
    "plot = plt.hist(data)"
   ]
  },
  {
   "cell_type": "markdown",
   "metadata": {},
   "source": [
    "# Distribución de Gauss"
   ]
  },
  {
   "cell_type": "code",
   "execution_count": 25,
   "metadata": {},
   "outputs": [],
   "source": [
    "data = np.random.randn(100)"
   ]
  },
  {
   "cell_type": "code",
   "execution_count": 26,
   "metadata": {},
   "outputs": [
    {
     "data": {
      "text/plain": [
       "array([ 1.26524503,  0.17751826, -0.88856317, -1.37069495, -1.22605389,\n",
       "        0.93126798, -0.3474313 , -0.36463092, -1.45735975,  0.85843449,\n",
       "        0.8841973 ,  1.0414696 , -0.52229611, -0.44817506, -0.25389873,\n",
       "       -0.48286996, -0.9596484 , -0.07383063,  0.10332425, -0.79331397,\n",
       "        1.49102815, -1.50763259, -1.04577695, -0.03646363,  0.1942921 ,\n",
       "        1.26909176, -0.31460906,  1.54716815, -0.28277021, -2.05543376,\n",
       "       -0.54180284,  0.1368324 ,  1.42526865, -0.66077597, -0.09786603,\n",
       "        0.92000909, -0.77659103,  0.42565425,  1.23899218, -0.86540289,\n",
       "        0.6531337 , -1.88380324, -0.69967256,  0.36693948, -1.87954174,\n",
       "       -0.39975528, -1.01391164,  2.1235558 , -0.43613153, -0.22191792,\n",
       "        1.04994678, -0.2038683 , -1.62754854, -0.11030007,  0.87974036,\n",
       "        1.13797853,  0.75055516, -0.47532662,  0.69980821,  0.9699524 ,\n",
       "        2.56189952,  0.3729883 , -1.2164561 , -1.38426836, -0.25250143,\n",
       "        0.85317947, -0.87459434,  0.57319336, -1.9766732 ,  0.17808669,\n",
       "       -1.00240138, -0.71291124,  1.26634921, -0.28153845, -0.28110807,\n",
       "       -1.05502425, -0.30628488, -0.0694233 , -1.81639486,  0.06509343,\n",
       "        2.78445623, -0.46983998, -1.78339225, -0.8256024 ,  0.923893  ,\n",
       "       -0.0713141 ,  1.10377269, -0.85340307, -0.89328153,  0.51658632,\n",
       "        1.07046181,  0.22404842,  0.45298771, -0.79577405, -0.20318875,\n",
       "       -1.62131366,  0.92485791,  0.64287383,  0.29879373,  0.67248714])"
      ]
     },
     "execution_count": 26,
     "metadata": {},
     "output_type": "execute_result"
    }
   ],
   "source": [
    "plt.plot()"
   ]
  },
  {
   "cell_type": "code",
   "execution_count": null,
   "metadata": {},
   "outputs": [],
   "source": []
  }
 ],
 "metadata": {
  "kernelspec": {
   "display_name": "Python 3",
   "language": "python",
   "name": "python3"
  },
  "language_info": {
   "codemirror_mode": {
    "name": "ipython",
    "version": 3
   },
   "file_extension": ".py",
   "mimetype": "text/x-python",
   "name": "python",
   "nbconvert_exporter": "python",
   "pygments_lexer": "ipython3",
   "version": "3.8.3"
  }
 },
 "nbformat": 4,
 "nbformat_minor": 4
}
