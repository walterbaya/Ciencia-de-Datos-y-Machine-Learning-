{
  "nbformat": 4,
  "nbformat_minor": 0,
  "metadata": {
    "colab": {
      "name": "Carga de Datasets de Curso Machine Learning.ipynb",
      "provenance": [],
      "authorship_tag": "ABX9TyOpt+K/PztSwDM89vW4NPO4",
      "include_colab_link": true
    },
    "kernelspec": {
      "name": "python3",
      "display_name": "Python 3"
    },
    "language_info": {
      "name": "python"
    }
  },
  "cells": [
    {
      "cell_type": "markdown",
      "metadata": {
        "id": "view-in-github",
        "colab_type": "text"
      },
      "source": [
        "<a href=\"https://colab.research.google.com/github/walterbaya/Ciencia-de-Datos-y-Machine-Learning-/blob/main/Carga_de_Datasets_de_Curso_Machine_Learning.ipynb\" target=\"_parent\"><img src=\"https://colab.research.google.com/assets/colab-badge.svg\" alt=\"Open In Colab\"/></a>"
      ]
    },
    {
      "cell_type": "code",
      "execution_count": null,
      "metadata": {
        "id": "p_NblETR5r7t"
      },
      "outputs": [],
      "source": [
        ""
      ]
    },
    {
      "cell_type": "markdown",
      "source": [
        "# Notebook de prueba\n",
        "\n",
        "Cargamos los datasets del curso de machine learning en google drive, y después voy a acceder a ellos desde este notebook."
      ],
      "metadata": {
        "id": "Mn1ydJ-P5s4R"
      }
    },
    {
      "cell_type": "code",
      "source": [
        ""
      ],
      "metadata": {
        "id": "s1y0VZUw56De"
      },
      "execution_count": null,
      "outputs": []
    }
  ]
}