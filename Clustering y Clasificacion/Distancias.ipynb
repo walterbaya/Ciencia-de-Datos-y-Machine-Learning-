{
 "cells": [
  {
   "cell_type": "code",
   "execution_count": null,
   "id": "f285f883",
   "metadata": {},
   "outputs": [],
   "source": [
    "from scipy.spatial import distance_matrix\n",
    "import pandas as pd\n",
    "\n",
    "data = pd.read_csv(\"datasets/movie\")"
   ]
  }
 ],
 "metadata": {
  "kernelspec": {
   "display_name": "Python 3",
   "language": "python",
   "name": "python3"
  },
  "language_info": {
   "codemirror_mode": {
    "name": "ipython",
    "version": 3
   },
   "file_extension": ".py",
   "mimetype": "text/x-python",
   "name": "python",
   "nbconvert_exporter": "python",
   "pygments_lexer": "ipython3",
   "version": "3.8.8"
  }
 },
 "nbformat": 4,
 "nbformat_minor": 5
}
