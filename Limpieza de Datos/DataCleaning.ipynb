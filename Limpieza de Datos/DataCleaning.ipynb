{
 "cells": [
  {
   "cell_type": "markdown",
   "metadata": {},
   "source": [
    "# Leer datos desde una URL"
   ]
  },
  {
   "cell_type": "code",
   "execution_count": 21,
   "metadata": {},
   "outputs": [],
   "source": [
    "import pandas as pd"
   ]
  },
  {
   "cell_type": "markdown",
   "metadata": {},
   "source": [
    "Uso pandas para la lectura en general"
   ]
  },
  {
   "cell_type": "code",
   "execution_count": 28,
   "metadata": {},
   "outputs": [],
   "source": [
    "medals_url = \"http://winterolympicsmedals.com/medals.csv\""
   ]
  },
  {
   "cell_type": "code",
   "execution_count": 29,
   "metadata": {},
   "outputs": [],
   "source": [
    "medals_data = pd.read_csv(medals_url)"
   ]
  },
  {
   "cell_type": "code",
   "execution_count": 30,
   "metadata": {},
   "outputs": [
    {
     "data": {
      "text/html": [
       "<div>\n",
       "<style scoped>\n",
       "    .dataframe tbody tr th:only-of-type {\n",
       "        vertical-align: middle;\n",
       "    }\n",
       "\n",
       "    .dataframe tbody tr th {\n",
       "        vertical-align: top;\n",
       "    }\n",
       "\n",
       "    .dataframe thead th {\n",
       "        text-align: right;\n",
       "    }\n",
       "</style>\n",
       "<table border=\"1\" class=\"dataframe\">\n",
       "  <thead>\n",
       "    <tr style=\"text-align: right;\">\n",
       "      <th></th>\n",
       "      <th>Year</th>\n",
       "      <th>City</th>\n",
       "      <th>Sport</th>\n",
       "      <th>Discipline</th>\n",
       "      <th>NOC</th>\n",
       "      <th>Event</th>\n",
       "      <th>Event gender</th>\n",
       "      <th>Medal</th>\n",
       "    </tr>\n",
       "  </thead>\n",
       "  <tbody>\n",
       "    <tr>\n",
       "      <th>0</th>\n",
       "      <td>1924</td>\n",
       "      <td>Chamonix</td>\n",
       "      <td>Skating</td>\n",
       "      <td>Figure skating</td>\n",
       "      <td>AUT</td>\n",
       "      <td>individual</td>\n",
       "      <td>M</td>\n",
       "      <td>Silver</td>\n",
       "    </tr>\n",
       "    <tr>\n",
       "      <th>1</th>\n",
       "      <td>1924</td>\n",
       "      <td>Chamonix</td>\n",
       "      <td>Skating</td>\n",
       "      <td>Figure skating</td>\n",
       "      <td>AUT</td>\n",
       "      <td>individual</td>\n",
       "      <td>W</td>\n",
       "      <td>Gold</td>\n",
       "    </tr>\n",
       "    <tr>\n",
       "      <th>2</th>\n",
       "      <td>1924</td>\n",
       "      <td>Chamonix</td>\n",
       "      <td>Skating</td>\n",
       "      <td>Figure skating</td>\n",
       "      <td>AUT</td>\n",
       "      <td>pairs</td>\n",
       "      <td>X</td>\n",
       "      <td>Gold</td>\n",
       "    </tr>\n",
       "    <tr>\n",
       "      <th>3</th>\n",
       "      <td>1924</td>\n",
       "      <td>Chamonix</td>\n",
       "      <td>Bobsleigh</td>\n",
       "      <td>Bobsleigh</td>\n",
       "      <td>BEL</td>\n",
       "      <td>four-man</td>\n",
       "      <td>M</td>\n",
       "      <td>Bronze</td>\n",
       "    </tr>\n",
       "    <tr>\n",
       "      <th>4</th>\n",
       "      <td>1924</td>\n",
       "      <td>Chamonix</td>\n",
       "      <td>Ice Hockey</td>\n",
       "      <td>Ice Hockey</td>\n",
       "      <td>CAN</td>\n",
       "      <td>ice hockey</td>\n",
       "      <td>M</td>\n",
       "      <td>Gold</td>\n",
       "    </tr>\n",
       "  </tbody>\n",
       "</table>\n",
       "</div>"
      ],
      "text/plain": [
       "   Year      City       Sport      Discipline  NOC       Event Event gender  \\\n",
       "0  1924  Chamonix     Skating  Figure skating  AUT  individual            M   \n",
       "1  1924  Chamonix     Skating  Figure skating  AUT  individual            W   \n",
       "2  1924  Chamonix     Skating  Figure skating  AUT       pairs            X   \n",
       "3  1924  Chamonix   Bobsleigh       Bobsleigh  BEL    four-man            M   \n",
       "4  1924  Chamonix  Ice Hockey      Ice Hockey  CAN  ice hockey            M   \n",
       "\n",
       "    Medal  \n",
       "0  Silver  \n",
       "1    Gold  \n",
       "2    Gold  \n",
       "3  Bronze  \n",
       "4    Gold  "
      ]
     },
     "execution_count": 30,
     "metadata": {},
     "output_type": "execute_result"
    }
   ],
   "source": [
    "medals_data.head()"
   ]
  },
  {
   "cell_type": "markdown",
   "metadata": {},
   "source": [
    "Otros paquetes de python que se usan para obtener datos"
   ]
  },
  {
   "cell_type": "code",
   "execution_count": 31,
   "metadata": {},
   "outputs": [],
   "source": [
    "import csv\n",
    "import urllib3"
   ]
  },
  {
   "cell_type": "markdown",
   "metadata": {},
   "source": [
    "csv trae metodos para manejars csv y urllib3 se usa para el manejo de informacion a traves de una URL"
   ]
  },
  {
   "cell_type": "code",
   "execution_count": 36,
   "metadata": {},
   "outputs": [],
   "source": [
    "http = urllib3.PoolManager()\n",
    "r = http.request('GET', medals_url)\n",
    "response = r.data"
   ]
  },
  {
   "cell_type": "markdown",
   "metadata": {},
   "source": [
    "# Ficheros tipo excel, XLS, XLSX"
   ]
  },
  {
   "cell_type": "code",
   "execution_count": 223,
   "metadata": {},
   "outputs": [],
   "source": [
    "mainpath = \"/Users/WalterAriel/Desktop/Ciencia-de-Datos-y-Machine-Learning-/datasets\"\n",
    "filename = \"titanic/titanic3.xls\"\n",
    "mine = \"/Users/WalterAriel/Desktop/Ciencia-de-Datos-y-Machine-Learning-\"\n",
    "minePath = mine + \"/datosMios\""
   ]
  },
  {
   "cell_type": "code",
   "execution_count": 224,
   "metadata": {},
   "outputs": [],
   "source": [
    "titanic2 = pd.read_excel(mainpath + \"/\" + filename, \"titanic3\")"
   ]
  },
  {
   "cell_type": "markdown",
   "metadata": {},
   "source": [
    "Hay que poner al final que pestaña estamos leyendo, en este caso la de titanic 3"
   ]
  },
  {
   "cell_type": "markdown",
   "metadata": {},
   "source": [
    "Creando un CSV o dataframe o JSON inclusive a partir del xls usando to_csv"
   ]
  },
  {
   "cell_type": "code",
   "execution_count": 225,
   "metadata": {},
   "outputs": [],
   "source": [
    "titanic2.to_csv(mainpath + \"/titanic/titanic_custom.xls\" )"
   ]
  },
  {
   "cell_type": "code",
   "execution_count": 226,
   "metadata": {},
   "outputs": [],
   "source": [
    "titanic2.to_json(mainpath + \"/titanic/titanic_custom.json\")"
   ]
  },
  {
   "cell_type": "markdown",
   "metadata": {},
   "source": [
    "Procesamiento del String binario obtenido en response que quedo colgado, el string binario esta guardado en response"
   ]
  },
  {
   "cell_type": "code",
   "execution_count": 227,
   "metadata": {},
   "outputs": [],
   "source": [
    "responseStr = response.decode('utf-8')\n",
    "vectorResponse = responseStr.split(\"\\n\")"
   ]
  },
  {
   "cell_type": "markdown",
   "metadata": {},
   "source": [
    "Ahora ya lo tengo decodificado en un formato UTF-8, lo siguiente sería transformarlo en un dataframe, para lo cual debo obtener un diccionario que contenga como claves los valores que hay en el encabezado y como valor vectores  con la informacion"
   ]
  },
  {
   "cell_type": "code",
   "execution_count": 228,
   "metadata": {},
   "outputs": [],
   "source": [
    "cabeceraLength = len(responseCabecera)\n",
    "responseLength = len(vectorResponse)\n",
    "responseCabecera = vectorResponse[0].split(\",\")\n",
    "dicc = {}\n",
    "# Creo la cabecera del diccionario\n",
    "for i in range(cabeceraLength):\n",
    "    dicc[responseCabecera[i]] = []"
   ]
  },
  {
   "cell_type": "code",
   "execution_count": 229,
   "metadata": {},
   "outputs": [],
   "source": [
    "for l in vectorResponse[1:]:\n",
    "    value = l.split(\",\")\n",
    "    for i in range(cabeceraLength):\n",
    "        dicc[responseCabecera[i]].append(value[i])"
   ]
  },
  {
   "cell_type": "markdown",
   "metadata": {},
   "source": [
    "Creo el dataframe"
   ]
  },
  {
   "cell_type": "code",
   "execution_count": 230,
   "metadata": {},
   "outputs": [
    {
     "data": {
      "text/html": [
       "<div>\n",
       "<style scoped>\n",
       "    .dataframe tbody tr th:only-of-type {\n",
       "        vertical-align: middle;\n",
       "    }\n",
       "\n",
       "    .dataframe tbody tr th {\n",
       "        vertical-align: top;\n",
       "    }\n",
       "\n",
       "    .dataframe thead th {\n",
       "        text-align: right;\n",
       "    }\n",
       "</style>\n",
       "<table border=\"1\" class=\"dataframe\">\n",
       "  <thead>\n",
       "    <tr style=\"text-align: right;\">\n",
       "      <th></th>\n",
       "      <th>Year</th>\n",
       "      <th>City</th>\n",
       "      <th>Sport</th>\n",
       "      <th>Discipline</th>\n",
       "      <th>NOC</th>\n",
       "      <th>Event</th>\n",
       "      <th>Event gender</th>\n",
       "      <th>Medal</th>\n",
       "    </tr>\n",
       "  </thead>\n",
       "  <tbody>\n",
       "    <tr>\n",
       "      <th>0</th>\n",
       "      <td>1924</td>\n",
       "      <td>Chamonix</td>\n",
       "      <td>Skating</td>\n",
       "      <td>Figure skating</td>\n",
       "      <td>AUT</td>\n",
       "      <td>individual</td>\n",
       "      <td>M</td>\n",
       "      <td>Silver</td>\n",
       "    </tr>\n",
       "    <tr>\n",
       "      <th>1</th>\n",
       "      <td>1924</td>\n",
       "      <td>Chamonix</td>\n",
       "      <td>Skating</td>\n",
       "      <td>Figure skating</td>\n",
       "      <td>AUT</td>\n",
       "      <td>individual</td>\n",
       "      <td>W</td>\n",
       "      <td>Gold</td>\n",
       "    </tr>\n",
       "    <tr>\n",
       "      <th>2</th>\n",
       "      <td>1924</td>\n",
       "      <td>Chamonix</td>\n",
       "      <td>Skating</td>\n",
       "      <td>Figure skating</td>\n",
       "      <td>AUT</td>\n",
       "      <td>pairs</td>\n",
       "      <td>X</td>\n",
       "      <td>Gold</td>\n",
       "    </tr>\n",
       "    <tr>\n",
       "      <th>3</th>\n",
       "      <td>1924</td>\n",
       "      <td>Chamonix</td>\n",
       "      <td>Bobsleigh</td>\n",
       "      <td>Bobsleigh</td>\n",
       "      <td>BEL</td>\n",
       "      <td>four-man</td>\n",
       "      <td>M</td>\n",
       "      <td>Bronze</td>\n",
       "    </tr>\n",
       "    <tr>\n",
       "      <th>4</th>\n",
       "      <td>1924</td>\n",
       "      <td>Chamonix</td>\n",
       "      <td>Ice Hockey</td>\n",
       "      <td>Ice Hockey</td>\n",
       "      <td>CAN</td>\n",
       "      <td>ice hockey</td>\n",
       "      <td>M</td>\n",
       "      <td>Gold</td>\n",
       "    </tr>\n",
       "  </tbody>\n",
       "</table>\n",
       "</div>"
      ],
      "text/plain": [
       "   Year      City       Sport      Discipline  NOC       Event Event gender  \\\n",
       "0  1924  Chamonix     Skating  Figure skating  AUT  individual            M   \n",
       "1  1924  Chamonix     Skating  Figure skating  AUT  individual            W   \n",
       "2  1924  Chamonix     Skating  Figure skating  AUT       pairs            X   \n",
       "3  1924  Chamonix   Bobsleigh       Bobsleigh  BEL    four-man            M   \n",
       "4  1924  Chamonix  Ice Hockey      Ice Hockey  CAN  ice hockey            M   \n",
       "\n",
       "    Medal  \n",
       "0  Silver  \n",
       "1    Gold  \n",
       "2    Gold  \n",
       "3  Bronze  \n",
       "4    Gold  "
      ]
     },
     "execution_count": 230,
     "metadata": {},
     "output_type": "execute_result"
    }
   ],
   "source": [
    "dataFrameOlympics = pd.DataFrame(dicc)\n",
    "dataFrameOlympics.head()"
   ]
  },
  {
   "cell_type": "markdown",
   "metadata": {},
   "source": [
    "Imprimo cuantas lineas tiene y cuantas columnas"
   ]
  },
  {
   "cell_type": "code",
   "execution_count": 231,
   "metadata": {},
   "outputs": [
    {
     "name": "stdout",
     "output_type": "stream",
     "text": [
      "El dataframe tiene 2312 filas y 8 columnas\n"
     ]
    }
   ],
   "source": [
    "print(\"El dataframe tiene %d filas y %d columnas\"%(responseLength,cabeceraLength) )"
   ]
  },
  {
   "cell_type": "markdown",
   "metadata": {},
   "source": [
    "Procedo a guardar toda la información en un archivo tipo CSV y en uno tipo XLSX"
   ]
  },
  {
   "cell_type": "code",
   "execution_count": 251,
   "metadata": {},
   "outputs": [],
   "source": [
    "dataFrameOlympics.to_csv(minePath + \"/datosMios.csv\")\n",
    "dataFrameOlympics.to_csv(minePath + \"/datosMios.xlsx\")"
   ]
  },
  {
   "cell_type": "code",
   "execution_count": 421,
   "metadata": {},
   "outputs": [],
   "source": [
    "def mostarDataset(url):\n",
    "    http = urllib3.PoolManager()\n",
    "    r = http.request('GET', url)\n",
    "    response = r.data\n",
    "    return response\n",
    "\n",
    "def urlToCsv(destiny, url ,sep = \",\" , delim = \"\\n\" ):\n",
    "    http = urllib3.PoolManager()\n",
    "    r = http.request('GET', url)\n",
    "    response = r.data\n",
    "    responseStr = response.decode('utf-8')\n",
    "    vectorResponse = responseStr.split(delim)\n",
    "    \n",
    "    responseCabecera = vectorResponse[0].split(sep)\n",
    "    \n",
    "    responseLength = len(vectorResponse)\n",
    "    \n",
    "    cabeceraLength = len(responseCabecera)\n",
    "    \n",
    "    print(\"El dataframe tiene %d filas y %d columnas\"%(responseLength,cabeceraLength) )\n",
    "    \n",
    "    dicc = {}\n",
    "    \n",
    "    # Creo la cabecera del diccionario\n",
    "    for i in range(cabeceraLength):\n",
    "        dicc[responseCabecera[i]] = []\n",
    "        \n",
    "    for l in vectorResponse[1:]:\n",
    "        value = l.split(sep)\n",
    "        if len(value)>1 :\n",
    "            for i in range(cabeceraLength):\n",
    "                dicc[responseCabecera[i]].append(value[i])\n",
    "            \n",
    "    dataFrameOlympics = pd.DataFrame(dicc)\n",
    "    dataFrameOlympics.to_csv(minePath + \"/\" + destiny + \".csv\")\n",
    "    return dicc\n"
   ]
  },
  {
   "cell_type": "code",
   "execution_count": 407,
   "metadata": {},
   "outputs": [
    {
     "data": {
      "text/plain": [
       "b'A\\xc3\\x91O,MES,TIPO,CUANTOS\\r\\n\"2018\",\"01\",\"F\",\"961\"\\r\\n\"2018\",\"01\",\"J\",\"13\"\\r\\n\"2018\",\"02\",\"F\",\"847\"\\r\\n\"2018\",\"02\",\"J\",\"8\"\\r\\n\"2018\",\"03\",\"F\",\"959\"\\r\\n\"2018\",\"03\",\"J\",\"17\"\\r\\n\"2018\",\"04\",\"F\",\"1167\"\\r\\n\"2018\",\"04\",\"J\",\"10\"\\r\\n\"2018\",\"05\",\"F\",\"1045\"\\r\\n\"2018\",\"05\",\"J\",\"11\"\\r\\n\"2018\",\"06\",\"F\",\"929\"\\r\\n\"2018\",\"06\",\"J\",\"10\"\\r\\n\"2018\",\"07\",\"F\",\"1435\"\\r\\n\"2018\",\"07\",\"J\",\"3\"\\r\\n\"2018\",\"08\",\"F\",\"1640\"\\r\\n\"2018\",\"08\",\"J\",\"6\"\\r\\n\"2018\",\"09\",\"F\",\"1888\"\\r\\n\"2018\",\"09\",\"J\",\"1\"\\r\\n\"2018\",\"10\",\"F\",\"1228\"\\r\\n\"2018\",\"10\",\"J\",\"6\"\\r\\n\"2018\",\"11\",\"F\",\"1238\"\\r\\n\"2018\",\"11\",\"J\",\"5\"\\r\\n\"2018\",\"12\",\"F\",\"725\"\\r\\n\"2018\",\"12\",\"J\",\"2\"\\r\\n'"
      ]
     },
     "execution_count": 407,
     "metadata": {},
     "output_type": "execute_result"
    }
   ],
   "source": [
    "mostarDataset(\"http://opendata.gijon.es/descargar.php?id=608&tipo=CSV\")"
   ]
  },
  {
   "cell_type": "code",
   "execution_count": 422,
   "metadata": {},
   "outputs": [
    {
     "name": "stdout",
     "output_type": "stream",
     "text": [
      "El dataframe tiene 26 filas y 4 columnas\n"
     ]
    }
   ],
   "source": [
    "dicc = urlToCsv(\"universidad\",\"http://opendata.gijon.es/descargar.php?id=608&tipo=CSV\", \",\", \"\\r\\n\")"
   ]
  },
  {
   "cell_type": "code",
   "execution_count": 426,
   "metadata": {},
   "outputs": [
    {
     "data": {
      "text/plain": [
       "['\"01\"',\n",
       " '\"01\"',\n",
       " '\"02\"',\n",
       " '\"02\"',\n",
       " '\"03\"',\n",
       " '\"03\"',\n",
       " '\"04\"',\n",
       " '\"04\"',\n",
       " '\"05\"',\n",
       " '\"05\"',\n",
       " '\"06\"',\n",
       " '\"06\"',\n",
       " '\"07\"',\n",
       " '\"07\"',\n",
       " '\"08\"',\n",
       " '\"08\"',\n",
       " '\"09\"',\n",
       " '\"09\"',\n",
       " '\"10\"',\n",
       " '\"10\"',\n",
       " '\"11\"',\n",
       " '\"11\"',\n",
       " '\"12\"',\n",
       " '\"12\"']"
      ]
     },
     "execution_count": 426,
     "metadata": {},
     "output_type": "execute_result"
    }
   ],
   "source": []
  },
  {
   "cell_type": "code",
   "execution_count": null,
   "metadata": {},
   "outputs": [],
   "source": []
  },
  {
   "cell_type": "code",
   "execution_count": null,
   "metadata": {},
   "outputs": [],
   "source": []
  }
 ],
 "metadata": {
  "kernelspec": {
   "display_name": "Python 3",
   "language": "python",
   "name": "python3"
  },
  "language_info": {
   "codemirror_mode": {
    "name": "ipython",
    "version": 3
   },
   "file_extension": ".py",
   "mimetype": "text/x-python",
   "name": "python",
   "nbconvert_exporter": "python",
   "pygments_lexer": "ipython3",
   "version": "3.8.3"
  }
 },
 "nbformat": 4,
 "nbformat_minor": 4
}
